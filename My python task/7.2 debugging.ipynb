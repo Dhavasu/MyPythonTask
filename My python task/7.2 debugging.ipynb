{
 "cells": [
  {
   "cell_type": "code",
   "execution_count": 1,
   "id": "b5abc3cb-a9f8-4319-8811-147b5068a1c0",
   "metadata": {},
   "outputs": [
    {
     "name": "stdout",
     "output_type": "stream",
     "text": [
      "Warnings: ['Invalid item ten. All items must be integers.', 'Invalid item None. All items must be integers.']\n",
      "Processed data: [50, 82, 26]\n"
     ]
    }
   ],
   "source": [
    "# step 1:\n",
    "def process_data(data):\n",
    "    if not isinstance(data, list):\n",
    "        raise ValueError(\"Input must be a list.\")\n",
    " \n",
    "    if not data:\n",
    "        raise ValueError(\"Input list is empty.\")\n",
    "\n",
    "    processed_data = []\n",
    "    errors = []\n",
    "    \n",
    "    for item in data:\n",
    "        if not isinstance(item, int):\n",
    "            errors.append(f\"Invalid item {item}. All items must be integers.\")\n",
    "            continue  \n",
    "        processed_item = item ** 2 + 1\n",
    "        processed_data.append(processed_item)\n",
    "\n",
    "    if errors:\n",
    "        print(\"Warnings:\", errors)\n",
    "\n",
    "    return processed_data, errors\n",
    "\n",
    "# Example usage\n",
    "input_data = [7, 9, 'ten', 5, None]\n",
    "output_data, errors = process_data(input_data)\n",
    "print(\"Processed data:\", output_data)\n"
   ]
  },
  {
   "cell_type": "code",
   "execution_count": 3,
   "id": "b58b2487-1fd8-4fd4-8916-0d17e8699852",
   "metadata": {},
   "outputs": [
    {
     "name": "stderr",
     "output_type": "stream",
     "text": [
      "2024-10-03 00:25:42,667 - INFO - Starting data processing.\n",
      "2024-10-03 00:25:42,687 - DEBUG - Processed item: 7 -> 50\n",
      "2024-10-03 00:25:42,687 - DEBUG - Processed item: 9 -> 82\n",
      "2024-10-03 00:25:42,691 - WARNING - Invalid item encountered: ten\n",
      "2024-10-03 00:25:42,693 - DEBUG - Processed item: 5 -> 26\n",
      "2024-10-03 00:25:42,694 - WARNING - Invalid item encountered: None\n",
      "2024-10-03 00:25:42,694 - INFO - Errors encountered during processing:\n",
      "2024-10-03 00:25:42,694 - INFO - Invalid item ten. All items must be integers.\n",
      "2024-10-03 00:25:42,700 - INFO - Invalid item None. All items must be integers.\n",
      "2024-10-03 00:25:42,706 - INFO - Data processing complete.\n"
     ]
    },
    {
     "name": "stdout",
     "output_type": "stream",
     "text": [
      "Processed data: [50, 82, 26]\n"
     ]
    }
   ],
   "source": [
    "# step 2:\n",
    "import logging\n",
    "\n",
    "logging.basicConfig(level=logging.DEBUG, format='%(asctime)s - %(levelname)s - %(message)s')\n",
    "\n",
    "def process_data(data):\n",
    "    if not isinstance(data, list):\n",
    "        logging.error(\"Input must be a list.\")\n",
    "        raise ValueError(\"Input must be a list.\")\n",
    "        \n",
    "    if not data:\n",
    "        logging.error(\"Input list is empty.\")\n",
    "        raise ValueError(\"Input list is empty.\")\n",
    "\n",
    "    processed_data = []\n",
    "    errors = []\n",
    "    \n",
    "    for item in data:\n",
    "        breakpoint()\n",
    "        \n",
    "        if not isinstance(item, int):\n",
    "            errors.append(f\"Invalid item {item}. All items must be integers.\")\n",
    "            logging.warning(f\"Invalid item encountered: {item}\")\n",
    "            continue \n",
    "        \n",
    "        # Example processing: square the integer and add 1\n",
    "        processed_item = item ** 2 + 1\n",
    "        processed_data.append(processed_item)\n",
    "        logging.debug(f\"Processed item: {item} -> {processed_item}\")\n",
    "\n",
    "    if errors:\n",
    "        logging.info(\"Errors encountered during processing:\")\n",
    "        for error in errors:\n",
    "            logging.info(error)\n",
    "\n",
    "    return processed_data, errors\n",
    "\n",
    "# Example usage\n",
    "if __name__ == \"__main__\":\n",
    "    input_data = [7, 9, 'ten', 5, None]\n",
    "    \n",
    "    logging.info(\"Starting data processing.\")\n",
    "    output_data, errors = process_data(input_data)\n",
    "    logging.info(\"Data processing complete.\")\n",
    "    print(\"Processed data:\", output_data)\n",
    "    "
   ]
  },
  {
   "cell_type": "code",
   "execution_count": 5,
   "id": "aef2f28b-3209-4d55-a71f-b7ee5da7c4c1",
   "metadata": {},
   "outputs": [
    {
     "name": "stderr",
     "output_type": "stream",
     "text": [
      "2024-10-03 00:26:14,640 - INFO - Starting data processing.\n",
      "2024-10-03 00:26:14,640 - DEBUG - Processed item: 7 -> 50\n",
      "2024-10-03 00:26:14,649 - DEBUG - Processed item: 9 -> 82\n",
      "2024-10-03 00:26:14,651 - WARNING - Invalid item encountered: ten\n",
      "2024-10-03 00:26:14,652 - DEBUG - Processed item: 5 -> 26\n",
      "2024-10-03 00:26:14,654 - WARNING - Invalid item encountered: None\n",
      "2024-10-03 00:26:14,655 - INFO - Errors encountered during processing:\n",
      "2024-10-03 00:26:14,657 - INFO - Invalid item ten. All items must be integers.\n",
      "2024-10-03 00:26:14,661 - INFO - Invalid item None. All items must be integers.\n",
      "2024-10-03 00:26:14,661 - INFO - Data processing complete.\n"
     ]
    },
    {
     "name": "stdout",
     "output_type": "stream",
     "text": [
      "Processed data: [50, 82, 26]\n",
      "Errors: ['Invalid item ten. All items must be integers.', 'Invalid item None. All items must be integers.']\n"
     ]
    }
   ],
   "source": [
    "# step 3:\n",
    "import logging\n",
    "\n",
    "logging.basicConfig(level=logging.DEBUG, format='%(asctime)s - %(levelname)s - %(message)s')\n",
    "\n",
    "def process_data(data):\n",
    "    if not isinstance(data, list):\n",
    "        logging.error(\"Input must be a list.\")\n",
    "        raise ValueError(\"Input must be a list.\")\n",
    "    \n",
    "    if not data:\n",
    "        logging.error(\"Input list is empty.\")\n",
    "        raise ValueError(\"Input list is empty.\")\n",
    "\n",
    "    processed_data = []\n",
    "    errors = []\n",
    "    \n",
    "    for item in data:\n",
    "        # Set a breakpoint for debugging (comment out for production)\n",
    "        # breakpoint()  \n",
    "        \n",
    "        if not isinstance(item, int):\n",
    "            errors.append(f\"Invalid item {item}. All items must be integers.\")\n",
    "            logging.warning(f\"Invalid item encountered: {item}\")\n",
    "            continue  # Skip this item and continue\n",
    "        \n",
    "        # Example processing: square the integer and add 1\n",
    "        processed_item = item ** 2 + 1\n",
    "        processed_data.append(processed_item)\n",
    "        logging.debug(f\"Processed item: {item} -> {processed_item}\")\n",
    "\n",
    "    # Log any errors that occurred\n",
    "    if errors:\n",
    "        logging.info(\"Errors encountered during processing:\")\n",
    "        for error in errors:\n",
    "            logging.info(error)\n",
    "\n",
    "    return processed_data, errors\n",
    "\n",
    "# Example usage\n",
    "if __name__ == \"__main__\":\n",
    "    input_data = [7, 9, 'ten', 5, None]\n",
    "   \n",
    "    logging.info(\"Starting data processing.\")\n",
    "    try:\n",
    "        output_data, errors = process_data(input_data)\n",
    "        logging.info(\"Data processing complete.\")\n",
    "    except ValueError as e:\n",
    "        logging.error(f\"Error during processing: {e}\")\n",
    "    \n",
    "    print(\"Processed data:\", output_data)\n",
    "    print(\"Errors:\", errors)\n"
   ]
  },
  {
   "cell_type": "code",
   "execution_count": 7,
   "id": "618aa890-c039-4250-973d-007167862128",
   "metadata": {},
   "outputs": [
    {
     "name": "stderr",
     "output_type": "stream",
     "text": [
      "2024-10-03 00:27:39,160 - INFO - Starting data processing.\n",
      "2024-10-03 00:27:39,160 - DEBUG - Processed item: 7 -> 50\n",
      "2024-10-03 00:27:39,169 - DEBUG - Processed item: 9 -> 82\n",
      "2024-10-03 00:27:39,170 - WARNING - Invalid item encountered: ten\n",
      "2024-10-03 00:27:39,172 - DEBUG - Processed item: 5 -> 26\n",
      "2024-10-03 00:27:39,175 - WARNING - Invalid item encountered: None\n",
      "2024-10-03 00:27:39,175 - INFO - Errors encountered during processing:\n",
      "2024-10-03 00:27:39,177 - INFO - Invalid item ten. All items must be integers.\n",
      "2024-10-03 00:27:39,177 - INFO - Invalid item None. All items must be integers.\n",
      "2024-10-03 00:27:39,177 - INFO - Data processing complete.\n"
     ]
    },
    {
     "name": "stdout",
     "output_type": "stream",
     "text": [
      "Processed data: [50, 82, 26]\n",
      "Errors: ['Invalid item ten. All items must be integers.', 'Invalid item None. All items must be integers.']\n"
     ]
    }
   ],
   "source": [
    "# step 4:\n",
    "import logging\n",
    "\n",
    "logging.basicConfig(level=logging.DEBUG, format='%(asctime)s - %(levelname)s - %(message)s')\n",
    "\n",
    "def validate_input(data):\n",
    "    if not isinstance(data, list):\n",
    "        logging.error(\"Input must be a list.\")\n",
    "        raise ValueError(\"Input must be a list.\")\n",
    "    \n",
    "    if not data:\n",
    "        logging.error(\"Input list is empty.\")\n",
    "        raise ValueError(\"Input list is empty.\")\n",
    "\n",
    "def process_item(item):\n",
    "    if not isinstance(item, int):\n",
    "        logging.warning(f\"Invalid item encountered: {item}\")\n",
    "        return None\n",
    "    \n",
    "    # Example processing: square the integer and add 1\n",
    "    processed_value = item ** 2 + 1\n",
    "    logging.debug(f\"Processed item: {item} -> {processed_value}\")\n",
    "    return processed_value\n",
    "\n",
    "def process_data(data):\n",
    "    validate_input(data)\n",
    "    \n",
    "    processed_data = []\n",
    "    errors = []\n",
    "\n",
    "    for item in data:\n",
    "        processed_value = process_item(item)\n",
    "        if processed_value is None:\n",
    "            errors.append(f\"Invalid item {item}. All items must be integers.\")\n",
    "        else:\n",
    "            processed_data.append(processed_value)\n",
    "\n",
    "    if errors:\n",
    "        logging.info(\"Errors encountered during processing:\")\n",
    "        for error in errors:\n",
    "            logging.info(error)\n",
    "\n",
    "    return processed_data, errors\n",
    "\n",
    "# Example usage\n",
    "if __name__ == \"__main__\":\n",
    "    input_data = [7, 9, 'ten', 5, None]\n",
    "   \n",
    "    logging.info(\"Starting data processing.\")\n",
    "    try:\n",
    "        output_data, errors = process_data(input_data)\n",
    "        logging.info(\"Data processing complete.\")\n",
    "    except ValueError as e:\n",
    "        logging.error(f\"Error during processing: {e}\")\n",
    "    \n",
    "    print(\"Processed data:\", output_data)\n",
    "    print(\"Errors:\", errors)\n"
   ]
  },
  {
   "cell_type": "code",
   "execution_count": null,
   "id": "94e69e10-b6c7-4a7b-b6c8-eebb4de6850c",
   "metadata": {},
   "outputs": [],
   "source": []
  }
 ],
 "metadata": {
  "kernelspec": {
   "display_name": "Python 3 (ipykernel)",
   "language": "python",
   "name": "python3"
  },
  "language_info": {
   "codemirror_mode": {
    "name": "ipython",
    "version": 3
   },
   "file_extension": ".py",
   "mimetype": "text/x-python",
   "name": "python",
   "nbconvert_exporter": "python",
   "pygments_lexer": "ipython3",
   "version": "3.12.4"
  }
 },
 "nbformat": 4,
 "nbformat_minor": 5
}
