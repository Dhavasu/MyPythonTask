{
 "cells": [
  {
   "cell_type": "code",
   "execution_count": 9,
   "id": "b65e6ffb-8d28-41b7-8a9e-2cb14e299606",
   "metadata": {},
   "outputs": [],
   "source": [
    "# Create a sample log file\n",
    "sample_log = \"\"\"\n",
    "127.0.0.1 - - [28/Sep/2024:10:34:29] \"GET /index.html HTTP/1.1\" 200 1043\n",
    "192.168.1.1 - - [29/Sep/2024:12:45:32] \"POST /submit-form HTTP/1.1\" 500 2345\n",
    "127.0.0.1 - - [30/Sep/2024:13:23:15] \"GET /about.html HTTP/1.1\" 200 2045\n",
    "[ERROR] Out of memory error occurred.\n",
    "\"\"\"\n",
    "\n",
    "with open('time_stamp.txt', 'w') as f:\n",
    "    f.write(sample_log)\n",
    "\n"
   ]
  },
  {
   "cell_type": "code",
   "execution_count": 11,
   "id": "6c3597ce-ffac-43c6-a9e8-49f4752b9709",
   "metadata": {},
   "outputs": [
    {
     "name": "stdout",
     "output_type": "stream",
     "text": [
      "Timestamps:\n",
      "2024-09-28 10:34:29\n",
      "2024-09-29 12:45:32\n",
      "2024-09-30 13:23:15\n",
      "\n",
      "IP Addresses:\n",
      "127.0.0.1\n",
      "192.168.1.1\n",
      "127.0.0.1\n",
      "\n",
      "Error Messages:\n",
      "Out of memory error occurred.\n"
     ]
    }
   ],
   "source": [
    "import re\n",
    "from datetime import datetime\n",
    "\n",
    "timestamp_pattern = r'\\[(\\d{2}/[a-zA-Z]{3}/\\d{4}:\\d{2}:\\d{2}:\\d{2})'  \n",
    "ip_pattern = r'(\\d{1,3}\\.\\d{1,3}\\.\\d{1,3}\\.\\d{1,3})'  \n",
    "error_pattern = r'\\[ERROR\\](.*)'  \n",
    "\n",
    "def extract_log_info(log_file):\n",
    "    with open(log_file, 'r') as file:\n",
    "        logs = file.readlines()\n",
    "    \n",
    "    log_info = {\n",
    "        'timestamps': [],\n",
    "        'ip_addresses': [],\n",
    "        'errors': []\n",
    "    }\n",
    "    \n",
    "    for log in logs:\n",
    "        timestamp_match = re.search(timestamp_pattern, log)\n",
    "        if timestamp_match:\n",
    "            timestamp_str = timestamp_match.group(1)\n",
    "            # Parse timestamp into a Python datetime object\n",
    "            log_info['timestamps'].append(datetime.strptime(timestamp_str, '%d/%b/%Y:%H:%M:%S'))\n",
    "        \n",
    "        # Extract IP addresses\n",
    "        ip_match = re.search(ip_pattern, log)\n",
    "        if ip_match:\n",
    "            log_info['ip_addresses'].append(ip_match.group(1))\n",
    "        \n",
    "        # Extract error messages\n",
    "        error_match = re.search(error_pattern, log)\n",
    "        if error_match:\n",
    "            log_info['errors'].append(error_match.group(1).strip())\n",
    "    \n",
    "    return log_info\n",
    "\n",
    "# Example usage\n",
    "if __name__ == \"__main__\":\n",
    "    log_file_path = 'time_stamp.txt'  \n",
    "    log_data = extract_log_info(log_file_path)\n",
    "    \n",
    "    print(\"Timestamps:\")\n",
    "    for ts in log_data['timestamps']:\n",
    "        print(ts)\n",
    "    \n",
    "    print(\"\\nIP Addresses:\")\n",
    "    for ip in log_data['ip_addresses']:\n",
    "        print(ip)\n",
    "    \n",
    "    print(\"\\nError Messages:\")\n",
    "    for error in log_data['errors']:\n",
    "        print(error)\n"
   ]
  },
  {
   "cell_type": "code",
   "execution_count": 13,
   "id": "ef0c183f-1916-4420-b87a-dca91a1102b0",
   "metadata": {},
   "outputs": [
    {
     "name": "stdout",
     "output_type": "stream",
     "text": [
      "\n",
      "127.0.0.1 - - [28/Sep/2024:10:34:29] \"GET /index.html HTTP/1.1\" 200 1043\n",
      "192.168.1.1 - - [29/Sep/2024:12:45:32] \"POST /submit-form HTTP/1.1\" 500 2345\n",
      "127.0.0.1 - - [30/Sep/2024:13:23:15] \"GET /about.html HTTP/1.1\" 200 2045\n",
      "[ERROR] Out of memory error occurred.\n"
     ]
    }
   ],
   "source": [
    "# Example: Reading a log file with a context manager\n",
    "log_file_path = 'time_stamp.txt'\n",
    "\n",
    "# Using the 'with' statement to open and read the file\n",
    "with open(log_file_path, 'r') as log_file:\n",
    "    for line in log_file:\n",
    "        print(line.strip())\n",
    "\n",
    "\n"
   ]
  },
  {
   "cell_type": "code",
   "execution_count": 15,
   "id": "7abe7ca7-607f-4fae-b9c9-f627c0379fa0",
   "metadata": {},
   "outputs": [
    {
     "name": "stdout",
     "output_type": "stream",
     "text": [
      "Total number of errors: 1\n",
      "Most frequent IP addresses:\n",
      "127.0.0.1: 2 occurrences\n",
      "192.168.1.1: 1 occurrences\n"
     ]
    }
   ],
   "source": [
    "import re\n",
    "from collections import Counter\n",
    "\n",
    "# Example log file path\n",
    "log_file_path = 'time_stamp.txt'\n",
    "\n",
    "def summarize_log(file_path):\n",
    "    error_count = 0\n",
    "    ip_counter = Counter() \n",
    "    \n",
    "    ip_pattern = re.compile(r'\\b(?:[0-9]{1,3}\\.){3}[0-9]{1,3}\\b')  # Match IPv4 addresses\n",
    "    error_pattern = re.compile(r'ERROR')  # Match the word 'ERROR'\n",
    "    \n",
    "    # Open and process the log file\n",
    "    with open(file_path, 'r') as log_file:\n",
    "        for line in log_file:\n",
    "            if error_pattern.search(line):\n",
    "                error_count += 1\n",
    "\n",
    "            ip_match = ip_pattern.findall(line)\n",
    "            if ip_match:\n",
    "                ip_counter.update(ip_match)\n",
    "\n",
    "    most_common_ips = ip_counter.most_common(5)  # Get the top 5 most frequent IPs\n",
    "\n",
    "    # Print the summary\n",
    "    print(f\"Total number of errors: {error_count}\")\n",
    "    print(\"Most frequent IP addresses:\")\n",
    "    for ip, count in most_common_ips:\n",
    "        print(f\"{ip}: {count} occurrences\")\n",
    "\n",
    "# Call the function with the log file\n",
    "summarize_log(log_file_path)\n"
   ]
  },
  {
   "cell_type": "code",
   "execution_count": null,
   "id": "8d0e9bee-c287-4c07-a5b7-d78deb511887",
   "metadata": {},
   "outputs": [],
   "source": []
  }
 ],
 "metadata": {
  "kernelspec": {
   "display_name": "Python 3 (ipykernel)",
   "language": "python",
   "name": "python3"
  },
  "language_info": {
   "codemirror_mode": {
    "name": "ipython",
    "version": 3
   },
   "file_extension": ".py",
   "mimetype": "text/x-python",
   "name": "python",
   "nbconvert_exporter": "python",
   "pygments_lexer": "ipython3",
   "version": "3.12.4"
  }
 },
 "nbformat": 4,
 "nbformat_minor": 5
}
