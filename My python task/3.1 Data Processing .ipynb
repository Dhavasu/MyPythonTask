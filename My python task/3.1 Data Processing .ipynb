{
 "cells": [
  {
   "cell_type": "code",
   "execution_count": 1,
   "id": "174015fb-bdc0-4713-b49c-c2b12bd2c918",
   "metadata": {},
   "outputs": [
    {
     "name": "stdout",
     "output_type": "stream",
     "text": [
      "Student Names: ['Nagaraj', 'Guru', 'Gomathi', 'Raji', 'Anitha']\n",
      "Passed Students: [{'name': 'Nagaraj', 'age': 27, 'grades': [75, 68, 92, 89, 96]}, {'name': 'Guru', 'age': 22, 'grades': [80, 75, 85, 96, 94]}, {'name': 'Raji', 'age': 25, 'grades': [85, 92, 83, 97, 87]}]\n",
      "\n",
      "Highest Grade: 97\n",
      "\n",
      "Highest Grade among Passed Students: 97\n",
      "\n",
      "Students with high grades:\n",
      "[{'name': 'Nagaraj', 'age': 27, 'grades': [75, 68, 92, 89, 96]}, {'name': 'Guru', 'age': 22, 'grades': [80, 75, 85, 96, 94]}, {'name': 'Raji', 'age': 25, 'grades': [85, 92, 83, 97, 87]}]\n"
     ]
    }
   ],
   "source": [
    "from functools import reduce  \n",
    "\n",
    "# Example list of student records\n",
    "students = [\n",
    "    {'name': 'Nagaraj', 'age': 27, 'grades': [75, 68, 92, 89, 96]},\n",
    "    {'name': 'Guru', 'age': 22, 'grades': [80, 75, 85, 96, 94]},\n",
    "    {'name': 'Gomathi', 'age': 21, 'grades': [68, 59, 70, 78, 72]},\n",
    "    {'name': 'Raji', 'age': 25, 'grades': [85, 92, 83, 97, 87]},\n",
    "    {'name': 'Anitha', 'age': 24, 'grades': [69, 64, 70, 74, 78]}\n",
    "]\n",
    "\n",
    "# Extract student names\n",
    "student_names = list(map(lambda student: student['name'], students))\n",
    "\n",
    "# Define grade threshold\n",
    "grade_threshold = 80\n",
    "\n",
    "# Filter students who passed\n",
    "passed_students = list(filter(lambda student: sum(student['grades']) / len(student['grades']) > grade_threshold, students))\n",
    "\n",
    "# Flatten the grades list and use reduce to calculate the highest grade \n",
    "all_grades = [grade for student in students for grade in student[\"grades\"]]\n",
    "highest_grade = reduce(lambda x, y: x if x > y else y, all_grades)\n",
    "\n",
    "# Find the highest grade among students who passed\n",
    "highest_grade_passed_students = reduce(\n",
    "    lambda acc, student: max(acc, max(student['grades'])),\n",
    "    filter(\n",
    "        lambda student: sum(student['grades']) / len(student['grades']) > grade_threshold,\n",
    "        students\n",
    "    ),\n",
    "    0\n",
    ")\n",
    "\n",
    "# Define a function to check if any grade is greater than or equal to 85\n",
    "def has_high_grade(student):\n",
    "    return any(grade >= 85 for grade in student[\"grades\"])\n",
    "\n",
    "# Filter students with high grades\n",
    "high_grade_students = list(filter(has_high_grade, students))\n",
    "\n",
    "# Print the results\n",
    "print(\"Student Names:\", student_names)\n",
    "print(\"Passed Students:\", passed_students)\n",
    "print(\"\\nHighest Grade:\", highest_grade)\n",
    "print(\"\\nHighest Grade among Passed Students:\", highest_grade_passed_students)\n",
    "print(\"\\nStudents with high grades:\")\n",
    "print(high_grade_students)\n"
   ]
  },
  {
   "cell_type": "code",
   "execution_count": null,
   "id": "e7b81a52-6f14-435d-9940-9ae58f09ef74",
   "metadata": {},
   "outputs": [],
   "source": []
  }
 ],
 "metadata": {
  "kernelspec": {
   "display_name": "Python 3 (ipykernel)",
   "language": "python",
   "name": "python3"
  },
  "language_info": {
   "codemirror_mode": {
    "name": "ipython",
    "version": 3
   },
   "file_extension": ".py",
   "mimetype": "text/x-python",
   "name": "python",
   "nbconvert_exporter": "python",
   "pygments_lexer": "ipython3",
   "version": "3.12.4"
  }
 },
 "nbformat": 4,
 "nbformat_minor": 5
}
