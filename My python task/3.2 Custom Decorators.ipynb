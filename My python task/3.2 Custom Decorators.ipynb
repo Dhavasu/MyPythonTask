{
 "cells": [
  {
   "cell_type": "code",
   "execution_count": 1,
   "id": "e32c5bd9-2770-4fd1-8783-81e362339677",
   "metadata": {},
   "outputs": [
    {
     "name": "stdout",
     "output_type": "stream",
     "text": [
      "Function is done!\n",
      "Execution time of example_function: 2.0005 seconds\n"
     ]
    }
   ],
   "source": [
    "# Step 1: Timing Decorator\n",
    "\n",
    "import time\n",
    "\n",
    "def timing_decorator(func):\n",
    "    def wrapper(*args, **kwargs):\n",
    "        start_time = time.time()  \n",
    "        result = func(*args, **kwargs) \n",
    "        end_time = time.time()  \n",
    "        execution_time = end_time - start_time  \n",
    "        print(f\"Execution time of {func.__name__}: {execution_time:.4f} seconds\")\n",
    "        return result\n",
    "    return wrapper\n",
    "\n",
    "# Example usage:\n",
    "@timing_decorator\n",
    "def example_function():\n",
    "    time.sleep(2)  # Simulate a function that takes time to execute\n",
    "    print(\"Function is done!\")\n",
    "\n",
    "# Call the function\n",
    "example_function()\n"
   ]
  },
  {
   "cell_type": "code",
   "execution_count": 3,
   "id": "900d0ded-33d1-4f75-8b18-add2ea4b317b",
   "metadata": {},
   "outputs": [
    {
     "name": "stdout",
     "output_type": "stream",
     "text": [
      "Calling function: add\n",
      "Input arguments: args=(5, 3), kwargs={}\n",
      "Function: add returned: 8\n"
     ]
    }
   ],
   "source": [
    "# Step 2: Logger Decorator\n",
    "\n",
    "def logger_decorator(func):\n",
    "    def wrapper(*args, **kwargs):\n",
    "        print(f\"Calling function: {func.__name__}\")\n",
    "        print(f\"Input arguments: args={args}, kwargs={kwargs}\")\n",
    "        \n",
    "        result = func(*args, **kwargs)\n",
    "        print(f\"Function: {func.__name__} returned: {result}\")\n",
    "        \n",
    "        return result\n",
    "    return wrapper\n",
    "\n",
    "# Example usage:\n",
    "@logger_decorator\n",
    "def add(a, b):\n",
    "    return a + b\n",
    "\n",
    "result = add(5, 3)\n"
   ]
  },
  {
   "cell_type": "code",
   "execution_count": 5,
   "id": "47c0c088-fb35-4d52-a4da-7c101c624177",
   "metadata": {},
   "outputs": [
    {
     "name": "stdout",
     "output_type": "stream",
     "text": [
      "Testing Input argument:\n",
      "Calling function: multiply\n",
      "Input arguments: args=(4, 5), kwargs={}\n",
      "Function: multiply returned: 20\n",
      "Execution time of wrapper: 1.0007 seconds\n"
     ]
    },
    {
     "data": {
      "text/plain": [
       "20"
      ]
     },
     "execution_count": 5,
     "metadata": {},
     "output_type": "execute_result"
    }
   ],
   "source": [
    "# Step 3: Apply multiple decorators\n",
    "\n",
    "import time\n",
    "\n",
    "def timing_decorator(func):\n",
    "    def wrapper(*args, **kwargs):\n",
    "        start_time = time.time()\n",
    "        result = func(*args, **kwargs)\n",
    "        end_time = time.time()\n",
    "        execution_time = end_time - start_time\n",
    "        print(f\"Execution time of {func.__name__}: {execution_time:.4f} seconds\")\n",
    "        return result\n",
    "    return wrapper\n",
    "\n",
    "def logger_decorator(func):\n",
    "    def wrapper(*args, **kwargs):\n",
    "        print(f\"Calling function: {func.__name__}\")\n",
    "        print(f\"Input arguments: args={args}, kwargs={kwargs}\")\n",
    "        result = func(*args, **kwargs)\n",
    "        print(f\"Function: {func.__name__} returned: {result}\")\n",
    "        return result\n",
    "    return wrapper\n",
    "\n",
    "# Function with multiple decorators\n",
    "@timing_decorator\n",
    "@logger_decorator\n",
    "def multiply(a, b):\n",
    "    time.sleep(1)  \n",
    "    return a * b\n",
    "    \n",
    "print(\"Testing Input argument:\")    \n",
    "multiply(4, 5)\n"
   ]
  },
  {
   "cell_type": "code",
   "execution_count": 7,
   "id": "e190d8d6-5783-4995-8632-9aa40e494283",
   "metadata": {},
   "outputs": [
    {
     "name": "stdout",
     "output_type": "stream",
     "text": [
      "Welcome, Lavanya!\n",
      "Welcome, Lavanya!\n",
      "Welcome, Lavanya!\n"
     ]
    }
   ],
   "source": [
    "# Step 4: Parameterized Decorator\n",
    "\n",
    "from functools import wraps\n",
    "\n",
    "def repeat(n):\n",
    "    def decorator(func):\n",
    "        @wraps(func)\n",
    "        def wrapper(*args, **kwargs):\n",
    "            for _ in range(n):\n",
    "                result = func(*args, **kwargs)\n",
    "            return result\n",
    "        return wrapper\n",
    "    return decorator\n",
    "\n",
    "# Example usage\n",
    "@repeat(3)\n",
    "def greet(name):\n",
    "    print(f\"Welcome, {name}!\")\n",
    "\n",
    "greet(\"Lavanya\")\n"
   ]
  },
  {
   "cell_type": "code",
   "execution_count": null,
   "id": "2555d273-3444-4ada-8135-25b0516c6f1a",
   "metadata": {},
   "outputs": [],
   "source": []
  }
 ],
 "metadata": {
  "kernelspec": {
   "display_name": "Python 3 (ipykernel)",
   "language": "python",
   "name": "python3"
  },
  "language_info": {
   "codemirror_mode": {
    "name": "ipython",
    "version": 3
   },
   "file_extension": ".py",
   "mimetype": "text/x-python",
   "name": "python",
   "nbconvert_exporter": "python",
   "pygments_lexer": "ipython3",
   "version": "3.12.4"
  }
 },
 "nbformat": 4,
 "nbformat_minor": 5
}
